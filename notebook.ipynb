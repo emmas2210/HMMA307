{
 "cells": [
  {
   "cell_type": "markdown",
   "metadata": {},
   "source": [
    "# Projet final : Santinelli Emma"
   ]
  },
  {
   "cell_type": "markdown",
   "metadata": {},
   "source": [
    "### Présentation des données"
   ]
  },
  {
   "cell_type": "markdown",
   "metadata": {},
   "source": [
    "Nous allons étudier des données sur des cyclistes de Seattle. Le but de se projet est de d'extraire le maximum d'informations de ces données, sans faire aucunes hypothèses de modèle. Nous allons donc faire de la statistique descriptive sur ces données."
   ]
  },
  {
   "cell_type": "markdown",
   "metadata": {},
   "source": [
    "Nous commencons par charger ces données qui porte sur le nombre de passage par heure de vélo sur le pont Fremont de Seattle. "
   ]
  },
  {
   "cell_type": "code",
   "execution_count": 1,
   "metadata": {},
   "outputs": [
    {
     "name": "stdout",
     "output_type": "stream",
     "text": [
      "  % Total    % Received % Xferd  Average Speed   Time    Time     Time  Current\n",
      "                                 Dload  Upload   Total   Spent    Left  Speed\n",
      "100 4248k    0 4248k    0     0   862k      0 --:--:--  0:00:04 --:--:--  862k\n"
     ]
    }
   ],
   "source": [
    "!curl -o FremontBridge.csv https://data.seattle.gov/api/views/65db-xm6k/rows.csv?accessType=DOWNLOAD\n"
   ]
  },
  {
   "cell_type": "code",
   "execution_count": 1,
   "metadata": {},
   "outputs": [],
   "source": [
    "%matplotlib inline\n",
    "import pandas as pd\n",
    "import numpy as np\n",
    "import seaborn as sns\n",
    "import matplotlib.pyplot as plt"
   ]
  },
  {
   "cell_type": "code",
   "execution_count": 2,
   "metadata": {},
   "outputs": [],
   "source": [
    "sns.set()"
   ]
  },
  {
   "cell_type": "markdown",
   "metadata": {},
   "source": [
    "Nous commençons par importer les données à l'aide du module \"Pandas\" et permuter les colonnes."
   ]
  },
  {
   "cell_type": "code",
   "execution_count": 32,
   "metadata": {},
   "outputs": [],
   "source": [
    "data = pd.read_csv('FremontBridge.csv', index_col='Date', parse_dates=True)"
   ]
  },
  {
   "cell_type": "code",
   "execution_count": 4,
   "metadata": {},
   "outputs": [
    {
     "data": {
      "text/html": [
       "<div>\n",
       "<style scoped>\n",
       "    .dataframe tbody tr th:only-of-type {\n",
       "        vertical-align: middle;\n",
       "    }\n",
       "\n",
       "    .dataframe tbody tr th {\n",
       "        vertical-align: top;\n",
       "    }\n",
       "\n",
       "    .dataframe thead th {\n",
       "        text-align: right;\n",
       "    }\n",
       "</style>\n",
       "<table border=\"1\" class=\"dataframe\">\n",
       "  <thead>\n",
       "    <tr style=\"text-align: right;\">\n",
       "      <th></th>\n",
       "      <th>Fremont Bridge Total</th>\n",
       "      <th>Fremont Bridge East Sidewalk</th>\n",
       "      <th>Fremont Bridge West Sidewalk</th>\n",
       "    </tr>\n",
       "    <tr>\n",
       "      <th>Date</th>\n",
       "      <th></th>\n",
       "      <th></th>\n",
       "      <th></th>\n",
       "    </tr>\n",
       "  </thead>\n",
       "  <tbody>\n",
       "    <tr>\n",
       "      <th>2012-10-03 00:00:00</th>\n",
       "      <td>13.0</td>\n",
       "      <td>4.0</td>\n",
       "      <td>9.0</td>\n",
       "    </tr>\n",
       "    <tr>\n",
       "      <th>2012-10-03 01:00:00</th>\n",
       "      <td>10.0</td>\n",
       "      <td>4.0</td>\n",
       "      <td>6.0</td>\n",
       "    </tr>\n",
       "    <tr>\n",
       "      <th>2012-10-03 02:00:00</th>\n",
       "      <td>2.0</td>\n",
       "      <td>1.0</td>\n",
       "      <td>1.0</td>\n",
       "    </tr>\n",
       "    <tr>\n",
       "      <th>2012-10-03 03:00:00</th>\n",
       "      <td>5.0</td>\n",
       "      <td>2.0</td>\n",
       "      <td>3.0</td>\n",
       "    </tr>\n",
       "    <tr>\n",
       "      <th>2012-10-03 04:00:00</th>\n",
       "      <td>7.0</td>\n",
       "      <td>6.0</td>\n",
       "      <td>1.0</td>\n",
       "    </tr>\n",
       "    <tr>\n",
       "      <th>2012-10-03 05:00:00</th>\n",
       "      <td>31.0</td>\n",
       "      <td>21.0</td>\n",
       "      <td>10.0</td>\n",
       "    </tr>\n",
       "    <tr>\n",
       "      <th>2012-10-03 06:00:00</th>\n",
       "      <td>155.0</td>\n",
       "      <td>105.0</td>\n",
       "      <td>50.0</td>\n",
       "    </tr>\n",
       "    <tr>\n",
       "      <th>2012-10-03 07:00:00</th>\n",
       "      <td>352.0</td>\n",
       "      <td>257.0</td>\n",
       "      <td>95.0</td>\n",
       "    </tr>\n",
       "    <tr>\n",
       "      <th>2012-10-03 08:00:00</th>\n",
       "      <td>437.0</td>\n",
       "      <td>291.0</td>\n",
       "      <td>146.0</td>\n",
       "    </tr>\n",
       "    <tr>\n",
       "      <th>2012-10-03 09:00:00</th>\n",
       "      <td>276.0</td>\n",
       "      <td>172.0</td>\n",
       "      <td>104.0</td>\n",
       "    </tr>\n",
       "    <tr>\n",
       "      <th>2012-10-03 10:00:00</th>\n",
       "      <td>118.0</td>\n",
       "      <td>72.0</td>\n",
       "      <td>46.0</td>\n",
       "    </tr>\n",
       "    <tr>\n",
       "      <th>2012-10-03 11:00:00</th>\n",
       "      <td>42.0</td>\n",
       "      <td>10.0</td>\n",
       "      <td>32.0</td>\n",
       "    </tr>\n",
       "    <tr>\n",
       "      <th>2012-10-03 12:00:00</th>\n",
       "      <td>76.0</td>\n",
       "      <td>35.0</td>\n",
       "      <td>41.0</td>\n",
       "    </tr>\n",
       "    <tr>\n",
       "      <th>2012-10-03 13:00:00</th>\n",
       "      <td>90.0</td>\n",
       "      <td>42.0</td>\n",
       "      <td>48.0</td>\n",
       "    </tr>\n",
       "    <tr>\n",
       "      <th>2012-10-03 14:00:00</th>\n",
       "      <td>128.0</td>\n",
       "      <td>77.0</td>\n",
       "      <td>51.0</td>\n",
       "    </tr>\n",
       "  </tbody>\n",
       "</table>\n",
       "</div>"
      ],
      "text/plain": [
       "                     Fremont Bridge Total  Fremont Bridge East Sidewalk  \\\n",
       "Date                                                                      \n",
       "2012-10-03 00:00:00                  13.0                           4.0   \n",
       "2012-10-03 01:00:00                  10.0                           4.0   \n",
       "2012-10-03 02:00:00                   2.0                           1.0   \n",
       "2012-10-03 03:00:00                   5.0                           2.0   \n",
       "2012-10-03 04:00:00                   7.0                           6.0   \n",
       "2012-10-03 05:00:00                  31.0                          21.0   \n",
       "2012-10-03 06:00:00                 155.0                         105.0   \n",
       "2012-10-03 07:00:00                 352.0                         257.0   \n",
       "2012-10-03 08:00:00                 437.0                         291.0   \n",
       "2012-10-03 09:00:00                 276.0                         172.0   \n",
       "2012-10-03 10:00:00                 118.0                          72.0   \n",
       "2012-10-03 11:00:00                  42.0                          10.0   \n",
       "2012-10-03 12:00:00                  76.0                          35.0   \n",
       "2012-10-03 13:00:00                  90.0                          42.0   \n",
       "2012-10-03 14:00:00                 128.0                          77.0   \n",
       "\n",
       "                     Fremont Bridge West Sidewalk  \n",
       "Date                                               \n",
       "2012-10-03 00:00:00                           9.0  \n",
       "2012-10-03 01:00:00                           6.0  \n",
       "2012-10-03 02:00:00                           1.0  \n",
       "2012-10-03 03:00:00                           3.0  \n",
       "2012-10-03 04:00:00                           1.0  \n",
       "2012-10-03 05:00:00                          10.0  \n",
       "2012-10-03 06:00:00                          50.0  \n",
       "2012-10-03 07:00:00                          95.0  \n",
       "2012-10-03 08:00:00                         146.0  \n",
       "2012-10-03 09:00:00                         104.0  \n",
       "2012-10-03 10:00:00                          46.0  \n",
       "2012-10-03 11:00:00                          32.0  \n",
       "2012-10-03 12:00:00                          41.0  \n",
       "2012-10-03 13:00:00                          48.0  \n",
       "2012-10-03 14:00:00                          51.0  "
      ]
     },
     "execution_count": 4,
     "metadata": {},
     "output_type": "execute_result"
    }
   ],
   "source": [
    "data.head(15)"
   ]
  },
  {
   "cell_type": "markdown",
   "metadata": {},
   "source": [
    "Ce tableau nous donne plusieurs informations : le nombre total de vélo passés sur le pont de Fremont, le nombre passé sur le coté Est du pont, et celui passé sur le cotè West. \n",
    "Par exemple, le 3 Octobre 2012 à 2h, il y a eu 2 vélos qui sont passés sur le pont, dont 1 par le coté Est et un par le coté Ouest."
   ]
  },
  {
   "cell_type": "code",
   "execution_count": 5,
   "metadata": {},
   "outputs": [
    {
     "data": {
      "text/html": [
       "<div>\n",
       "<style scoped>\n",
       "    .dataframe tbody tr th:only-of-type {\n",
       "        vertical-align: middle;\n",
       "    }\n",
       "\n",
       "    .dataframe tbody tr th {\n",
       "        vertical-align: top;\n",
       "    }\n",
       "\n",
       "    .dataframe thead th {\n",
       "        text-align: right;\n",
       "    }\n",
       "</style>\n",
       "<table border=\"1\" class=\"dataframe\">\n",
       "  <thead>\n",
       "    <tr style=\"text-align: right;\">\n",
       "      <th></th>\n",
       "      <th>Fremont Bridge Total</th>\n",
       "      <th>Fremont Bridge East Sidewalk</th>\n",
       "      <th>Fremont Bridge West Sidewalk</th>\n",
       "    </tr>\n",
       "  </thead>\n",
       "  <tbody>\n",
       "    <tr>\n",
       "      <th>count</th>\n",
       "      <td>136313.000000</td>\n",
       "      <td>136313.000000</td>\n",
       "      <td>136313.000000</td>\n",
       "    </tr>\n",
       "    <tr>\n",
       "      <th>mean</th>\n",
       "      <td>112.975065</td>\n",
       "      <td>51.514060</td>\n",
       "      <td>61.461005</td>\n",
       "    </tr>\n",
       "    <tr>\n",
       "      <th>std</th>\n",
       "      <td>143.607191</td>\n",
       "      <td>66.214446</td>\n",
       "      <td>89.406687</td>\n",
       "    </tr>\n",
       "    <tr>\n",
       "      <th>min</th>\n",
       "      <td>0.000000</td>\n",
       "      <td>0.000000</td>\n",
       "      <td>0.000000</td>\n",
       "    </tr>\n",
       "    <tr>\n",
       "      <th>25%</th>\n",
       "      <td>14.000000</td>\n",
       "      <td>6.000000</td>\n",
       "      <td>7.000000</td>\n",
       "    </tr>\n",
       "    <tr>\n",
       "      <th>50%</th>\n",
       "      <td>61.000000</td>\n",
       "      <td>28.000000</td>\n",
       "      <td>30.000000</td>\n",
       "    </tr>\n",
       "    <tr>\n",
       "      <th>75%</th>\n",
       "      <td>148.000000</td>\n",
       "      <td>69.000000</td>\n",
       "      <td>75.000000</td>\n",
       "    </tr>\n",
       "    <tr>\n",
       "      <th>max</th>\n",
       "      <td>1097.000000</td>\n",
       "      <td>698.000000</td>\n",
       "      <td>850.000000</td>\n",
       "    </tr>\n",
       "  </tbody>\n",
       "</table>\n",
       "</div>"
      ],
      "text/plain": [
       "       Fremont Bridge Total  Fremont Bridge East Sidewalk  \\\n",
       "count         136313.000000                 136313.000000   \n",
       "mean             112.975065                     51.514060   \n",
       "std              143.607191                     66.214446   \n",
       "min                0.000000                      0.000000   \n",
       "25%               14.000000                      6.000000   \n",
       "50%               61.000000                     28.000000   \n",
       "75%              148.000000                     69.000000   \n",
       "max             1097.000000                    698.000000   \n",
       "\n",
       "       Fremont Bridge West Sidewalk  \n",
       "count                 136313.000000  \n",
       "mean                      61.461005  \n",
       "std                       89.406687  \n",
       "min                        0.000000  \n",
       "25%                        7.000000  \n",
       "50%                       30.000000  \n",
       "75%                       75.000000  \n",
       "max                      850.000000  "
      ]
     },
     "execution_count": 5,
     "metadata": {},
     "output_type": "execute_result"
    }
   ],
   "source": [
    "data.describe()"
   ]
  },
  {
   "cell_type": "code",
   "execution_count": 33,
   "metadata": {},
   "outputs": [
    {
     "name": "stdout",
     "output_type": "stream",
     "text": [
      "                     Fremont Bridge Total  Fremont Bridge East Sidewalk  \\\n",
      "Date                                                                      \n",
      "2019-06-11 17:00:00                1097.0                         247.0   \n",
      "2019-06-11 17:00:00                1097.0                         247.0   \n",
      "\n",
      "                     Fremont Bridge West Sidewalk  \n",
      "Date                                               \n",
      "2019-06-11 17:00:00                         850.0  \n",
      "2019-06-11 17:00:00                         850.0  \n"
     ]
    }
   ],
   "source": [
    "print(data.loc[data['Fremont Bridge Total']==1097.000000])"
   ]
  },
  {
   "cell_type": "code",
   "execution_count": 34,
   "metadata": {},
   "outputs": [
    {
     "name": "stdout",
     "output_type": "stream",
     "text": [
      "                     Fremont Bridge Total  Fremont Bridge East Sidewalk  \\\n",
      "Date                                                                      \n",
      "2012-11-01 03:00:00                   0.0                           0.0   \n",
      "2012-11-23 01:00:00                   0.0                           0.0   \n",
      "2012-11-23 03:00:00                   0.0                           0.0   \n",
      "2012-11-26 02:00:00                   0.0                           0.0   \n",
      "2012-12-02 03:00:00                   0.0                           0.0   \n",
      "...                                   ...                           ...   \n",
      "2020-09-27 20:00:00                   0.0                           0.0   \n",
      "2020-09-28 01:00:00                   0.0                           0.0   \n",
      "2020-09-28 03:00:00                   0.0                           0.0   \n",
      "2020-09-29 01:00:00                   0.0                           0.0   \n",
      "2020-09-30 03:00:00                   0.0                           0.0   \n",
      "\n",
      "                     Fremont Bridge West Sidewalk  \n",
      "Date                                               \n",
      "2012-11-01 03:00:00                           0.0  \n",
      "2012-11-23 01:00:00                           0.0  \n",
      "2012-11-23 03:00:00                           0.0  \n",
      "2012-11-26 02:00:00                           0.0  \n",
      "2012-12-02 03:00:00                           0.0  \n",
      "...                                           ...  \n",
      "2020-09-27 20:00:00                           0.0  \n",
      "2020-09-28 01:00:00                           0.0  \n",
      "2020-09-28 03:00:00                           0.0  \n",
      "2020-09-29 01:00:00                           0.0  \n",
      "2020-09-30 03:00:00                           0.0  \n",
      "\n",
      "[1752 rows x 3 columns]\n"
     ]
    }
   ],
   "source": [
    "print(data.loc[data['Fremont Bridge Total']==0])"
   ]
  },
  {
   "cell_type": "markdown",
   "metadata": {},
   "source": [
    "Nous sommes donc en présence de 136334 données d'heures d'observation. En moyenne, 113 vélos passent sur ce pont par heure depuis 2012, dont 51 par le côté Est et 61 par le côté Ouest.\n",
    "Le maximum du nombre de vélo passés en une heure sur ce pont est de 1097 le 11 Juillet 2019 à 17h."
   ]
  },
  {
   "cell_type": "markdown",
   "metadata": {},
   "source": [
    "On se propose de renommer les deux colonnes par des abréviations : \"Total\", \"West\" et \"East\". On remarque que le nombre total de vélos passés sur le pont est la somme du nombre de vélos passés par le côté et Est et le nombre passés par le côté Ouest"
   ]
  },
  {
   "cell_type": "code",
   "execution_count": 7,
   "metadata": {},
   "outputs": [
    {
     "data": {
      "text/html": [
       "<div>\n",
       "<style scoped>\n",
       "    .dataframe tbody tr th:only-of-type {\n",
       "        vertical-align: middle;\n",
       "    }\n",
       "\n",
       "    .dataframe tbody tr th {\n",
       "        vertical-align: top;\n",
       "    }\n",
       "\n",
       "    .dataframe thead th {\n",
       "        text-align: right;\n",
       "    }\n",
       "</style>\n",
       "<table border=\"1\" class=\"dataframe\">\n",
       "  <thead>\n",
       "    <tr style=\"text-align: right;\">\n",
       "      <th></th>\n",
       "      <th>Total</th>\n",
       "      <th>East</th>\n",
       "      <th>West</th>\n",
       "    </tr>\n",
       "    <tr>\n",
       "      <th>Date</th>\n",
       "      <th></th>\n",
       "      <th></th>\n",
       "      <th></th>\n",
       "    </tr>\n",
       "  </thead>\n",
       "  <tbody>\n",
       "    <tr>\n",
       "      <th>2012-10-03 00:00:00</th>\n",
       "      <td>13.0</td>\n",
       "      <td>4.0</td>\n",
       "      <td>9.0</td>\n",
       "    </tr>\n",
       "    <tr>\n",
       "      <th>2012-10-03 01:00:00</th>\n",
       "      <td>10.0</td>\n",
       "      <td>4.0</td>\n",
       "      <td>6.0</td>\n",
       "    </tr>\n",
       "    <tr>\n",
       "      <th>2012-10-03 02:00:00</th>\n",
       "      <td>2.0</td>\n",
       "      <td>1.0</td>\n",
       "      <td>1.0</td>\n",
       "    </tr>\n",
       "    <tr>\n",
       "      <th>2012-10-03 03:00:00</th>\n",
       "      <td>5.0</td>\n",
       "      <td>2.0</td>\n",
       "      <td>3.0</td>\n",
       "    </tr>\n",
       "    <tr>\n",
       "      <th>2012-10-03 04:00:00</th>\n",
       "      <td>7.0</td>\n",
       "      <td>6.0</td>\n",
       "      <td>1.0</td>\n",
       "    </tr>\n",
       "    <tr>\n",
       "      <th>2012-10-03 05:00:00</th>\n",
       "      <td>31.0</td>\n",
       "      <td>21.0</td>\n",
       "      <td>10.0</td>\n",
       "    </tr>\n",
       "    <tr>\n",
       "      <th>2012-10-03 06:00:00</th>\n",
       "      <td>155.0</td>\n",
       "      <td>105.0</td>\n",
       "      <td>50.0</td>\n",
       "    </tr>\n",
       "    <tr>\n",
       "      <th>2012-10-03 07:00:00</th>\n",
       "      <td>352.0</td>\n",
       "      <td>257.0</td>\n",
       "      <td>95.0</td>\n",
       "    </tr>\n",
       "    <tr>\n",
       "      <th>2012-10-03 08:00:00</th>\n",
       "      <td>437.0</td>\n",
       "      <td>291.0</td>\n",
       "      <td>146.0</td>\n",
       "    </tr>\n",
       "    <tr>\n",
       "      <th>2012-10-03 09:00:00</th>\n",
       "      <td>276.0</td>\n",
       "      <td>172.0</td>\n",
       "      <td>104.0</td>\n",
       "    </tr>\n",
       "    <tr>\n",
       "      <th>2012-10-03 10:00:00</th>\n",
       "      <td>118.0</td>\n",
       "      <td>72.0</td>\n",
       "      <td>46.0</td>\n",
       "    </tr>\n",
       "    <tr>\n",
       "      <th>2012-10-03 11:00:00</th>\n",
       "      <td>42.0</td>\n",
       "      <td>10.0</td>\n",
       "      <td>32.0</td>\n",
       "    </tr>\n",
       "    <tr>\n",
       "      <th>2012-10-03 12:00:00</th>\n",
       "      <td>76.0</td>\n",
       "      <td>35.0</td>\n",
       "      <td>41.0</td>\n",
       "    </tr>\n",
       "    <tr>\n",
       "      <th>2012-10-03 13:00:00</th>\n",
       "      <td>90.0</td>\n",
       "      <td>42.0</td>\n",
       "      <td>48.0</td>\n",
       "    </tr>\n",
       "    <tr>\n",
       "      <th>2012-10-03 14:00:00</th>\n",
       "      <td>128.0</td>\n",
       "      <td>77.0</td>\n",
       "      <td>51.0</td>\n",
       "    </tr>\n",
       "  </tbody>\n",
       "</table>\n",
       "</div>"
      ],
      "text/plain": [
       "                     Total   East   West\n",
       "Date                                    \n",
       "2012-10-03 00:00:00   13.0    4.0    9.0\n",
       "2012-10-03 01:00:00   10.0    4.0    6.0\n",
       "2012-10-03 02:00:00    2.0    1.0    1.0\n",
       "2012-10-03 03:00:00    5.0    2.0    3.0\n",
       "2012-10-03 04:00:00    7.0    6.0    1.0\n",
       "2012-10-03 05:00:00   31.0   21.0   10.0\n",
       "2012-10-03 06:00:00  155.0  105.0   50.0\n",
       "2012-10-03 07:00:00  352.0  257.0   95.0\n",
       "2012-10-03 08:00:00  437.0  291.0  146.0\n",
       "2012-10-03 09:00:00  276.0  172.0  104.0\n",
       "2012-10-03 10:00:00  118.0   72.0   46.0\n",
       "2012-10-03 11:00:00   42.0   10.0   32.0\n",
       "2012-10-03 12:00:00   76.0   35.0   41.0\n",
       "2012-10-03 13:00:00   90.0   42.0   48.0\n",
       "2012-10-03 14:00:00  128.0   77.0   51.0"
      ]
     },
     "execution_count": 7,
     "metadata": {},
     "output_type": "execute_result"
    }
   ],
   "source": [
    "data.columns = ['Total','East', 'West']\n",
    "data.fillna(0, inplace=True)\n",
    "data.head(15)"
   ]
  },
  {
   "cell_type": "code",
   "execution_count": 10,
   "metadata": {},
   "outputs": [
    {
     "name": "stdout",
     "output_type": "stream",
     "text": [
      "                      West  East  Total\n",
      "Date                                   \n",
      "2012-10-03 00:00:00    9.0   4.0   13.0\n",
      "2012-10-03 01:00:00    6.0   4.0   10.0\n",
      "2012-10-03 02:00:00    1.0   1.0    2.0\n",
      "2012-10-03 03:00:00    3.0   2.0    5.0\n",
      "2012-10-03 04:00:00    1.0   6.0    7.0\n",
      "...                    ...   ...    ...\n",
      "2020-09-30 19:00:00  105.0  51.0  156.0\n",
      "2020-09-30 20:00:00   43.0  27.0   70.0\n",
      "2020-09-30 21:00:00   23.0  17.0   40.0\n",
      "2020-09-30 22:00:00   13.0  10.0   23.0\n",
      "2020-09-30 23:00:00   13.0   4.0   17.0\n",
      "\n",
      "[136334 rows x 3 columns]\n"
     ]
    }
   ],
   "source": [
    "data=data[['West','East','Total']]\n",
    "print(data)"
   ]
  },
  {
   "cell_type": "markdown",
   "metadata": {},
   "source": [
    "Afin d'avoir une idée globale des données, nous traçons un graphique représentant le nombre de vélos total par jour passant sur le pont en fonction des mois."
   ]
  },
  {
   "cell_type": "code",
   "execution_count": 41,
   "metadata": {},
   "outputs": [
    {
     "ename": "TypeError",
     "evalue": "'DataFrame' object is not callable",
     "output_type": "error",
     "traceback": [
      "\u001b[0;31m---------------------------------------------------------------------------\u001b[0m",
      "\u001b[0;31mTypeError\u001b[0m                                 Traceback (most recent call last)",
      "\u001b[0;32m<ipython-input-41-940cadcfdd16>\u001b[0m in \u001b[0;36m<module>\u001b[0;34m\u001b[0m\n\u001b[1;32m      4\u001b[0m \u001b[0;32mimport\u001b[0m \u001b[0mnumpy\u001b[0m \u001b[0;32mas\u001b[0m \u001b[0mnp\u001b[0m\u001b[0;34m\u001b[0m\u001b[0;34m\u001b[0m\u001b[0m\n\u001b[1;32m      5\u001b[0m \u001b[0;34m\u001b[0m\u001b[0m\n\u001b[0;32m----> 6\u001b[0;31m \u001b[0mdata\u001b[0m\u001b[0;34m(\u001b[0m\u001b[0;34m'Total'\u001b[0m\u001b[0;34m)\u001b[0m\u001b[0;34m.\u001b[0m\u001b[0mplot\u001b[0m\u001b[0;34m(\u001b[0m\u001b[0;34m)\u001b[0m\u001b[0;34m\u001b[0m\u001b[0;34m\u001b[0m\u001b[0m\n\u001b[0m\u001b[1;32m      7\u001b[0m \u001b[0mplt\u001b[0m\u001b[0;34m.\u001b[0m\u001b[0mylabel\u001b[0m\u001b[0;34m(\u001b[0m\u001b[0;34m'weekly trips'\u001b[0m\u001b[0;34m)\u001b[0m\u001b[0;34m;\u001b[0m\u001b[0;34m\u001b[0m\u001b[0;34m\u001b[0m\u001b[0m\n",
      "\u001b[0;31mTypeError\u001b[0m: 'DataFrame' object is not callable"
     ]
    }
   ],
   "source": [
    "import matplotlib.pyplot as plt\n",
    "import seaborn; \n",
    "seaborn.set() \n",
    "import numpy as np\n",
    "\n",
    "data('Total').plot()\n",
    "plt.ylabel('weekly trips');"
   ]
  },
  {
   "cell_type": "markdown",
   "metadata": {},
   "source": [
    "On constate qu'il y a un pic au mois de Juillet 2014. De plus, on voit qu'il y a une variation du nombre de cyclistes en fonction de la saison : lors de l'hiver il y a moins de 15000 vélos par jour qui passent sur ce pont (avec un minimum de 4500 atteint en Janvier 2014), alors qu'en été ils sont plus de 20000 par jour. Cette tendance saisonnière peut s'expliquer par les conditions climatiques, météorologiques."
   ]
  },
  {
   "cell_type": "markdown",
   "metadata": {},
   "source": [
    "### Transformation des données"
   ]
  },
  {
   "cell_type": "markdown",
   "metadata": {},
   "source": [
    "Dans le but d'analyser au mieux ces données, nous allons les tranformer. En effet, nous allons réunir chaque donnée collectée pour le même jour dans une ligne en fonction de son heure. Nous allons ainsi avoir une matrice a deux diimensions: la première pour les vélos arrivant par le côté Est, et la deuxième pour ceux arrivant par le côté Ouest. Chaque ligne de cette matrice correspond à un jour de l'année et chaque colonne correspond a une heures de la journée (pour un total de 48 heures).\n",
    "Voici un apperçu des données obtenues aprés transformation: "
   ]
  },
  {
   "cell_type": "code",
   "execution_count": 11,
   "metadata": {},
   "outputs": [
    {
     "data": {
      "text/html": [
       "<div>\n",
       "<style scoped>\n",
       "    .dataframe tbody tr th:only-of-type {\n",
       "        vertical-align: middle;\n",
       "    }\n",
       "\n",
       "    .dataframe tbody tr th {\n",
       "        vertical-align: top;\n",
       "    }\n",
       "\n",
       "    .dataframe thead tr th {\n",
       "        text-align: left;\n",
       "    }\n",
       "</style>\n",
       "<table border=\"1\" class=\"dataframe\">\n",
       "  <thead>\n",
       "    <tr>\n",
       "      <th></th>\n",
       "      <th colspan=\"10\" halign=\"left\">East</th>\n",
       "      <th>...</th>\n",
       "      <th colspan=\"10\" halign=\"left\">West</th>\n",
       "    </tr>\n",
       "    <tr>\n",
       "      <th>Date</th>\n",
       "      <th>0</th>\n",
       "      <th>1</th>\n",
       "      <th>2</th>\n",
       "      <th>3</th>\n",
       "      <th>4</th>\n",
       "      <th>5</th>\n",
       "      <th>6</th>\n",
       "      <th>7</th>\n",
       "      <th>8</th>\n",
       "      <th>9</th>\n",
       "      <th>...</th>\n",
       "      <th>14</th>\n",
       "      <th>15</th>\n",
       "      <th>16</th>\n",
       "      <th>17</th>\n",
       "      <th>18</th>\n",
       "      <th>19</th>\n",
       "      <th>20</th>\n",
       "      <th>21</th>\n",
       "      <th>22</th>\n",
       "      <th>23</th>\n",
       "    </tr>\n",
       "  </thead>\n",
       "  <tbody>\n",
       "    <tr>\n",
       "      <th>2012-10-03</th>\n",
       "      <td>4</td>\n",
       "      <td>4</td>\n",
       "      <td>1</td>\n",
       "      <td>2</td>\n",
       "      <td>6</td>\n",
       "      <td>21</td>\n",
       "      <td>105</td>\n",
       "      <td>257</td>\n",
       "      <td>291</td>\n",
       "      <td>172</td>\n",
       "      <td>...</td>\n",
       "      <td>51</td>\n",
       "      <td>92</td>\n",
       "      <td>182</td>\n",
       "      <td>391</td>\n",
       "      <td>258</td>\n",
       "      <td>69</td>\n",
       "      <td>51</td>\n",
       "      <td>38</td>\n",
       "      <td>25</td>\n",
       "      <td>12</td>\n",
       "    </tr>\n",
       "    <tr>\n",
       "      <th>2012-10-04</th>\n",
       "      <td>7</td>\n",
       "      <td>3</td>\n",
       "      <td>3</td>\n",
       "      <td>0</td>\n",
       "      <td>7</td>\n",
       "      <td>15</td>\n",
       "      <td>91</td>\n",
       "      <td>230</td>\n",
       "      <td>284</td>\n",
       "      <td>147</td>\n",
       "      <td>...</td>\n",
       "      <td>56</td>\n",
       "      <td>74</td>\n",
       "      <td>161</td>\n",
       "      <td>353</td>\n",
       "      <td>241</td>\n",
       "      <td>107</td>\n",
       "      <td>56</td>\n",
       "      <td>39</td>\n",
       "      <td>21</td>\n",
       "      <td>30</td>\n",
       "    </tr>\n",
       "    <tr>\n",
       "      <th>2012-10-05</th>\n",
       "      <td>4</td>\n",
       "      <td>4</td>\n",
       "      <td>4</td>\n",
       "      <td>2</td>\n",
       "      <td>7</td>\n",
       "      <td>18</td>\n",
       "      <td>68</td>\n",
       "      <td>218</td>\n",
       "      <td>251</td>\n",
       "      <td>131</td>\n",
       "      <td>...</td>\n",
       "      <td>62</td>\n",
       "      <td>84</td>\n",
       "      <td>190</td>\n",
       "      <td>290</td>\n",
       "      <td>209</td>\n",
       "      <td>73</td>\n",
       "      <td>41</td>\n",
       "      <td>31</td>\n",
       "      <td>26</td>\n",
       "      <td>16</td>\n",
       "    </tr>\n",
       "    <tr>\n",
       "      <th>2012-10-06</th>\n",
       "      <td>8</td>\n",
       "      <td>10</td>\n",
       "      <td>7</td>\n",
       "      <td>1</td>\n",
       "      <td>4</td>\n",
       "      <td>3</td>\n",
       "      <td>12</td>\n",
       "      <td>17</td>\n",
       "      <td>58</td>\n",
       "      <td>59</td>\n",
       "      <td>...</td>\n",
       "      <td>114</td>\n",
       "      <td>96</td>\n",
       "      <td>76</td>\n",
       "      <td>73</td>\n",
       "      <td>55</td>\n",
       "      <td>38</td>\n",
       "      <td>18</td>\n",
       "      <td>15</td>\n",
       "      <td>20</td>\n",
       "      <td>19</td>\n",
       "    </tr>\n",
       "    <tr>\n",
       "      <th>2012-10-07</th>\n",
       "      <td>6</td>\n",
       "      <td>12</td>\n",
       "      <td>2</td>\n",
       "      <td>4</td>\n",
       "      <td>1</td>\n",
       "      <td>6</td>\n",
       "      <td>9</td>\n",
       "      <td>14</td>\n",
       "      <td>43</td>\n",
       "      <td>67</td>\n",
       "      <td>...</td>\n",
       "      <td>115</td>\n",
       "      <td>109</td>\n",
       "      <td>93</td>\n",
       "      <td>73</td>\n",
       "      <td>45</td>\n",
       "      <td>23</td>\n",
       "      <td>36</td>\n",
       "      <td>35</td>\n",
       "      <td>9</td>\n",
       "      <td>11</td>\n",
       "    </tr>\n",
       "  </tbody>\n",
       "</table>\n",
       "<p>5 rows × 48 columns</p>\n",
       "</div>"
      ],
      "text/plain": [
       "           East                                       ... West                 \\\n",
       "Date         0   1  2  3  4   5    6    7    8    9   ...   14   15   16   17   \n",
       "2012-10-03    4   4  1  2  6  21  105  257  291  172  ...   51   92  182  391   \n",
       "2012-10-04    7   3  3  0  7  15   91  230  284  147  ...   56   74  161  353   \n",
       "2012-10-05    4   4  4  2  7  18   68  218  251  131  ...   62   84  190  290   \n",
       "2012-10-06    8  10  7  1  4   3   12   17   58   59  ...  114   96   76   73   \n",
       "2012-10-07    6  12  2  4  1   6    9   14   43   67  ...  115  109   93   73   \n",
       "\n",
       "                                      \n",
       "Date         18   19  20  21  22  23  \n",
       "2012-10-03  258   69  51  38  25  12  \n",
       "2012-10-04  241  107  56  39  21  30  \n",
       "2012-10-05  209   73  41  31  26  16  \n",
       "2012-10-06   55   38  18  15  20  19  \n",
       "2012-10-07   45   23  36  35   9  11  \n",
       "\n",
       "[5 rows x 48 columns]"
      ]
     },
     "execution_count": 11,
     "metadata": {},
     "output_type": "execute_result"
    }
   ],
   "source": [
    "pivoted = data.pivot_table(['East', 'West'],\n",
    "                           index=data.index.date,\n",
    "                           columns=data.index.hour,\n",
    "                           fill_value=0)\n",
    "pivoted.head()"
   ]
  },
  {
   "cell_type": "code",
   "execution_count": 12,
   "metadata": {},
   "outputs": [
    {
     "data": {
      "text/plain": [
       "(2920, 48)"
      ]
     },
     "execution_count": 12,
     "metadata": {},
     "output_type": "execute_result"
    }
   ],
   "source": [
    "pivoted.shape"
   ]
  },
  {
   "cell_type": "markdown",
   "metadata": {},
   "source": [
    "On se propose d'extraire les valeurs de chaque ligne et de les stocker dans X. "
   ]
  },
  {
   "cell_type": "code",
   "execution_count": 13,
   "metadata": {},
   "outputs": [
    {
     "data": {
      "text/plain": [
       "(2920, 48)"
      ]
     },
     "execution_count": 13,
     "metadata": {},
     "output_type": "execute_result"
    }
   ],
   "source": [
    "X = pivoted.values\n",
    "X.shape"
   ]
  },
  {
   "cell_type": "markdown",
   "metadata": {},
   "source": [
    "Nous sommes maintenant en présence d'un jeu de données consitué de 2920 jours et 48 variables (les 48 heures d'une journée)."
   ]
  },
  {
   "cell_type": "markdown",
   "metadata": {},
   "source": [
    "### Visualisation des données"
   ]
  },
  {
   "cell_type": "markdown",
   "metadata": {},
   "source": [
    "Nous pouvons penser que ces données représentent 2920 objets distincts qui vivent dans un espace de dimension 48, ou la valeur de chaque dimension est le nombre de vélos compté à une heure particulière sur une partie du pont (Est ou Ouest). Cependant, cette visualisation en 48 dimensions rendrait nos données difficilement visualisable. C'est pourquoi nous faisons le choix d'utiliser une technique de reduction de dimension qui utilise la méthode de l'analyse en composante principale (ACP). Cette méthode est une projection linéaire des données qui preserve le maximum de variance. Pour nos données, nous choisissons de garder 90% de la variance totale."
   ]
  },
  {
   "cell_type": "code",
   "execution_count": 14,
   "metadata": {},
   "outputs": [
    {
     "data": {
      "text/plain": [
       "(2920, 3)"
      ]
     },
     "execution_count": 14,
     "metadata": {},
     "output_type": "execute_result"
    }
   ],
   "source": [
    "from sklearn.decomposition import PCA\n",
    "Xpca = PCA(0.9).fit_transform(X)\n",
    "Xpca.shape"
   ]
  },
  {
   "cell_type": "markdown",
   "metadata": {},
   "source": [
    "Nous sommes maintenant en présence d'un objet à 3 dimensions, ce qui signifie que ces trois composantes projetées decrivent au moins 90% de la variance totale des données. Maintenant que nous avons des données en trois dimensions, nous pouvons plus facilement les représenter dans un graphique. "
   ]
  },
  {
   "cell_type": "code",
   "execution_count": 15,
   "metadata": {},
   "outputs": [
    {
     "data": {
      "image/png": "[encoded data removed]",
      "text/plain": [
       "<Figure size 432x288 with 2 Axes>"
      ]
     },
     "metadata": {},
     "output_type": "display_data"
    }
   ],
   "source": [
    "total_trips = X.sum(1)\n",
    "plt.scatter(Xpca[:, 0], Xpca[:, 1], c=total_trips,\n",
    "            cmap='cubehelix')\n",
    "plt.colorbar(label='total trips');"
   ]
  },
  {
   "cell_type": "markdown",
   "metadata": {},
   "source": [
    "Sur ce graphique, chaque point est coloré en fonction du nombre total de vélos par jour compté. Ainsi, plus le point est clair et plus le nombre de vélo compté ce jour est grand. On voit que les données se séparent en deux groupes distincts et que le nombre de vélo compté augmente en fonction de la longueur de de chaque composante.\n",
    "Enfin, les deux groupes sont de moins en moins dissociable lorsque le nombre de vélo diminue."
   ]
  },
  {
   "cell_type": "markdown",
   "metadata": {},
   "source": [
    "### Classification non supervisée des données"
   ]
  },
  {
   "cell_type": "markdown",
   "metadata": {},
   "source": [
    "Nous aimerions maintenant séparer les deux groupes que nous avons trouvé plus haut. Pour celà, nous allons utiliser l'algorithme de mélange gaussien. Nous allons appliquer ce modèle à nos données de cyclistes et représenter graphiquement le résultat obtenu."
   ]
  },
  {
   "cell_type": "code",
   "execution_count": 16,
   "metadata": {},
   "outputs": [
    {
     "data": {
      "image/png": "[encoded data removed]",
      "text/plain": [
       "<Figure size 432x288 with 1 Axes>"
      ]
     },
     "metadata": {},
     "output_type": "display_data"
    }
   ],
   "source": [
    "from sklearn.mixture import GaussianMixture\n",
    "gmm = GaussianMixture(2, covariance_type='full', random_state=0)\n",
    "gmm.fit(Xpca)\n",
    "cluster_label = gmm.predict(Xpca)\n",
    "plt.scatter(Xpca[:, 0], Xpca[:, 1], c=cluster_label);"
   ]
  },
  {
   "cell_type": "markdown",
   "metadata": {},
   "source": [
    "Notre classification semble avoir fonctionné et séparé les deux groupes que nous avions repérés sur le graphique précedent.\n",
    "Nous appliquons cette classification a notre tableau de données et nous obtenons un aperçcu de celle-ci."
   ]
  },
  {
   "cell_type": "code",
   "execution_count": 17,
   "metadata": {},
   "outputs": [
    {
     "data": {
      "text/html": [
       "<div>\n",
       "<style scoped>\n",
       "    .dataframe tbody tr th:only-of-type {\n",
       "        vertical-align: middle;\n",
       "    }\n",
       "\n",
       "    .dataframe tbody tr th {\n",
       "        vertical-align: top;\n",
       "    }\n",
       "\n",
       "    .dataframe thead th {\n",
       "        text-align: right;\n",
       "    }\n",
       "</style>\n",
       "<table border=\"1\" class=\"dataframe\">\n",
       "  <thead>\n",
       "    <tr style=\"text-align: right;\">\n",
       "      <th></th>\n",
       "      <th>West</th>\n",
       "      <th>East</th>\n",
       "      <th>Total</th>\n",
       "      <th>Cluster</th>\n",
       "    </tr>\n",
       "    <tr>\n",
       "      <th>Date</th>\n",
       "      <th></th>\n",
       "      <th></th>\n",
       "      <th></th>\n",
       "      <th></th>\n",
       "    </tr>\n",
       "  </thead>\n",
       "  <tbody>\n",
       "    <tr>\n",
       "      <th>2012-10-03 00:00:00</th>\n",
       "      <td>9.0</td>\n",
       "      <td>4.0</td>\n",
       "      <td>13.0</td>\n",
       "      <td>1</td>\n",
       "    </tr>\n",
       "    <tr>\n",
       "      <th>2012-10-03 01:00:00</th>\n",
       "      <td>6.0</td>\n",
       "      <td>4.0</td>\n",
       "      <td>10.0</td>\n",
       "      <td>1</td>\n",
       "    </tr>\n",
       "    <tr>\n",
       "      <th>2012-10-03 02:00:00</th>\n",
       "      <td>1.0</td>\n",
       "      <td>1.0</td>\n",
       "      <td>2.0</td>\n",
       "      <td>1</td>\n",
       "    </tr>\n",
       "    <tr>\n",
       "      <th>2012-10-03 03:00:00</th>\n",
       "      <td>3.0</td>\n",
       "      <td>2.0</td>\n",
       "      <td>5.0</td>\n",
       "      <td>1</td>\n",
       "    </tr>\n",
       "    <tr>\n",
       "      <th>2012-10-03 04:00:00</th>\n",
       "      <td>1.0</td>\n",
       "      <td>6.0</td>\n",
       "      <td>7.0</td>\n",
       "      <td>1</td>\n",
       "    </tr>\n",
       "  </tbody>\n",
       "</table>\n",
       "</div>"
      ],
      "text/plain": [
       "                     West  East  Total  Cluster\n",
       "Date                                           \n",
       "2012-10-03 00:00:00   9.0   4.0   13.0        1\n",
       "2012-10-03 01:00:00   6.0   4.0   10.0        1\n",
       "2012-10-03 02:00:00   1.0   1.0    2.0        1\n",
       "2012-10-03 03:00:00   3.0   2.0    5.0        1\n",
       "2012-10-03 04:00:00   1.0   6.0    7.0        1"
      ]
     },
     "execution_count": 17,
     "metadata": {},
     "output_type": "execute_result"
    }
   ],
   "source": [
    "pivoted['Cluster'] = cluster_label\n",
    "data = data.join(pivoted['Cluster'], on=data.index.date)\n",
    "data.head()"
   ]
  },
  {
   "cell_type": "code",
   "execution_count": 71,
   "metadata": {
    "scrolled": true
   },
   "outputs": [
    {
     "data": {
      "text/html": [
       "<div>\n",
       "<style scoped>\n",
       "    .dataframe tbody tr th:only-of-type {\n",
       "        vertical-align: middle;\n",
       "    }\n",
       "\n",
       "    .dataframe tbody tr th {\n",
       "        vertical-align: top;\n",
       "    }\n",
       "\n",
       "    .dataframe thead th {\n",
       "        text-align: right;\n",
       "    }\n",
       "</style>\n",
       "<table border=\"1\" class=\"dataframe\">\n",
       "  <thead>\n",
       "    <tr style=\"text-align: right;\">\n",
       "      <th></th>\n",
       "      <th></th>\n",
       "      <th>West</th>\n",
       "      <th>East</th>\n",
       "      <th>Total</th>\n",
       "    </tr>\n",
       "    <tr>\n",
       "      <th>Cluster</th>\n",
       "      <th></th>\n",
       "      <th></th>\n",
       "      <th></th>\n",
       "      <th></th>\n",
       "    </tr>\n",
       "  </thead>\n",
       "  <tbody>\n",
       "    <tr>\n",
       "      <th rowspan=\"5\" valign=\"top\">0</th>\n",
       "      <th>00:00:00</th>\n",
       "      <td>8.312780</td>\n",
       "      <td>5.907509</td>\n",
       "      <td>14.220288</td>\n",
       "    </tr>\n",
       "    <tr>\n",
       "      <th>01:00:00</th>\n",
       "      <td>4.545500</td>\n",
       "      <td>3.648434</td>\n",
       "      <td>8.193933</td>\n",
       "    </tr>\n",
       "    <tr>\n",
       "      <th>02:00:00</th>\n",
       "      <td>2.841372</td>\n",
       "      <td>2.489806</td>\n",
       "      <td>5.331179</td>\n",
       "    </tr>\n",
       "    <tr>\n",
       "      <th>03:00:00</th>\n",
       "      <td>1.576827</td>\n",
       "      <td>1.539035</td>\n",
       "      <td>3.115863</td>\n",
       "    </tr>\n",
       "    <tr>\n",
       "      <th>04:00:00</th>\n",
       "      <td>2.184983</td>\n",
       "      <td>1.696171</td>\n",
       "      <td>3.881154</td>\n",
       "    </tr>\n",
       "  </tbody>\n",
       "</table>\n",
       "</div>"
      ],
      "text/plain": [
       "                      West      East      Total\n",
       "Cluster                                        \n",
       "0       00:00:00  8.312780  5.907509  14.220288\n",
       "        01:00:00  4.545500  3.648434   8.193933\n",
       "        02:00:00  2.841372  2.489806   5.331179\n",
       "        03:00:00  1.576827  1.539035   3.115863\n",
       "        04:00:00  2.184983  1.696171   3.881154"
      ]
     },
     "execution_count": 71,
     "metadata": {},
     "output_type": "execute_result"
    }
   ],
   "source": [
    "by_hour = data.groupby(['Cluster', data.index.time]).mean()\n",
    "by_hour.head()"
   ]
  },
  {
   "cell_type": "code",
   "execution_count": null,
   "metadata": {},
   "outputs": [],
   "source": [
    "Nous finissons cette partie en traçant l"
   ]
  },
  {
   "cell_type": "markdown",
   "metadata": {},
   "source": [
    "### Les habitudes de travail à Seattle"
   ]
  },
  {
   "cell_type": "markdown",
   "metadata": {},
   "source": [
    "Nous allons entrer plus dans les détails et essayer de voir comment nous pouvons extraire des informations sur les habitudes de travail des habitants de Seattle à partir des données que nous disposons.\n",
    "Dans un premier temps, notre intuition nous suggère que ces trois classes de . Nous allons "
   ]
  },
  {
   "cell_type": "code",
   "execution_count": 20,
   "metadata": {},
   "outputs": [
    {
     "data": {
      "image/png": "[encoded data removed]",
      "text/plain": [
       "<Figure size 432x288 with 2 Axes>"
      ]
     },
     "metadata": {},
     "output_type": "display_data"
    }
   ],
   "source": [
    "dayofweek = pd.to_datetime(pivoted.index).dayofweek\n",
    "plt.scatter(Xpca[:, 0], Xpca[:, 1], c=dayofweek,\n",
    "            cmap=plt.cm.get_cmap('jet', 7))\n",
    "cb = plt.colorbar(ticks=range(7))\n",
    "cb.set_ticklabels(['Mon', 'Tues', 'Wed', 'Thurs', 'Fri', 'Sat', 'Sun'])\n",
    "plt.clim(-0.5, 6.5);"
   ]
  },
  {
   "cell_type": "markdown",
   "metadata": {},
   "source": [
    "f"
   ]
  },
  {
   "cell_type": "code",
   "execution_count": 21,
   "metadata": {},
   "outputs": [
    {
     "data": {
      "text/html": [
       "<div>\n",
       "<style scoped>\n",
       "    .dataframe tbody tr th:only-of-type {\n",
       "        vertical-align: middle;\n",
       "    }\n",
       "\n",
       "    .dataframe tbody tr th {\n",
       "        vertical-align: top;\n",
       "    }\n",
       "\n",
       "    .dataframe thead th {\n",
       "        text-align: right;\n",
       "    }\n",
       "</style>\n",
       "<table border=\"1\" class=\"dataframe\">\n",
       "  <thead>\n",
       "    <tr style=\"text-align: right;\">\n",
       "      <th></th>\n",
       "      <th>cluster</th>\n",
       "      <th>is_weekend</th>\n",
       "      <th>weekday</th>\n",
       "    </tr>\n",
       "  </thead>\n",
       "  <tbody>\n",
       "    <tr>\n",
       "      <th>2012-10-03</th>\n",
       "      <td>1</td>\n",
       "      <td>False</td>\n",
       "      <td>Wed</td>\n",
       "    </tr>\n",
       "    <tr>\n",
       "      <th>2012-10-04</th>\n",
       "      <td>1</td>\n",
       "      <td>False</td>\n",
       "      <td>Thu</td>\n",
       "    </tr>\n",
       "    <tr>\n",
       "      <th>2012-10-05</th>\n",
       "      <td>1</td>\n",
       "      <td>False</td>\n",
       "      <td>Fri</td>\n",
       "    </tr>\n",
       "    <tr>\n",
       "      <th>2012-10-06</th>\n",
       "      <td>0</td>\n",
       "      <td>True</td>\n",
       "      <td>Sat</td>\n",
       "    </tr>\n",
       "    <tr>\n",
       "      <th>2012-10-07</th>\n",
       "      <td>0</td>\n",
       "      <td>True</td>\n",
       "      <td>Sun</td>\n",
       "    </tr>\n",
       "  </tbody>\n",
       "</table>\n",
       "</div>"
      ],
      "text/plain": [
       "            cluster  is_weekend weekday\n",
       "2012-10-03        1       False     Wed\n",
       "2012-10-04        1       False     Thu\n",
       "2012-10-05        1       False     Fri\n",
       "2012-10-06        0        True     Sat\n",
       "2012-10-07        0        True     Sun"
      ]
     },
     "execution_count": 21,
     "metadata": {},
     "output_type": "execute_result"
    }
   ],
   "source": [
    "results = pd.DataFrame({'cluster': cluster_label,\n",
    "                        'is_weekend': (dayofweek > 4),\n",
    "                        'weekday': pivoted.index.map(lambda x: x.strftime('%a'))},\n",
    "                       index=pivoted.index)\n",
    "results.head()"
   ]
  },
  {
   "cell_type": "code",
   "execution_count": 25,
   "metadata": {},
   "outputs": [
    {
     "data": {
      "text/plain": [
       "1"
      ]
     },
     "execution_count": 25,
     "metadata": {},
     "output_type": "execute_result"
    }
   ],
   "source": [
    "weekend_workdays = results.query('cluster == 1 and is_weekend')\n",
    "len(weekend_workdays)"
   ]
  },
  {
   "cell_type": "code",
   "execution_count": 24,
   "metadata": {},
   "outputs": [
    {
     "data": {
      "text/plain": [
       "252"
      ]
     },
     "execution_count": 24,
     "metadata": {},
     "output_type": "execute_result"
    }
   ],
   "source": [
    "midweek_holidays = results.query('cluster == 0 and not is_weekend')\n",
    "len(midweek_holidays)"
   ]
  },
  {
   "cell_type": "markdown",
   "metadata": {},
   "source": [
    "Il y a donc 30 weekends au cours des années précedentes durant lesquels les cyclistes de Seattle ne sont pas allés travailler. Afin de faire le lien avec les fêtes et vacances nationales, nous allons charger le calendrier officiel des vacances aux Etats Unis."
   ]
  },
  {
   "cell_type": "code",
   "execution_count": 28,
   "metadata": {},
   "outputs": [
    {
     "data": {
      "text/plain": [
       "2012-01-02                 New Years Day\n",
       "2012-01-16    Martin Luther King Jr. Day\n",
       "2012-02-20                Presidents Day\n",
       "2012-05-28                  Memorial Day\n",
       "2012-07-04                      July 4th\n",
       "dtype: object"
      ]
     },
     "execution_count": 28,
     "metadata": {},
     "output_type": "execute_result"
    }
   ],
   "source": [
    "from pandas.tseries.holiday import USFederalHolidayCalendar\n",
    "cal = USFederalHolidayCalendar()\n",
    "holidays = cal.holidays('2012', '2016', return_name=True)\n",
    "holidays.head()"
   ]
  },
  {
   "cell_type": "markdown",
   "metadata": {},
   "source": [
    "Afin de compléter ces données, nous ajoutons à chaque jour de cette liste, le jour d'avant et celui d'aprés. Voici la nouvelle liste obtenue :"
   ]
  },
  {
   "cell_type": "code",
   "execution_count": 29,
   "metadata": {},
   "outputs": [
    {
     "data": {
      "text/plain": [
       "2012-01-01                 Day Before New Years Day\n",
       "2012-01-02                            New Years Day\n",
       "2012-01-03                  Day After New Years Day\n",
       "2012-01-15    Day Before Martin Luther King Jr. Day\n",
       "2012-01-16               Martin Luther King Jr. Day\n",
       "dtype: object"
      ]
     },
     "execution_count": 29,
     "metadata": {},
     "output_type": "execute_result"
    }
   ],
   "source": [
    "holidays_all = pd.concat([holidays,\n",
    "                         \"Day Before \" + holidays.shift(-1, 'D'),\n",
    "                         \"Day After \" + holidays.shift(1, 'D')])\n",
    "holidays_all = holidays_all.sort_index()\n",
    "holidays_all.head()"
   ]
  },
  {
   "cell_type": "code",
   "execution_count": null,
   "metadata": {},
   "outputs": [],
   "source": []
  },
  {
   "cell_type": "code",
   "execution_count": 32,
   "metadata": {},
   "outputs": [
    {
     "ename": "NameError",
     "evalue": "name 'midweek_holidays' is not defined",
     "output_type": "error",
     "traceback": [
      "\u001b[0;31m---------------------------------------------------------------------------\u001b[0m",
      "\u001b[0;31mNameError\u001b[0m                                 Traceback (most recent call last)",
      "\u001b[0;32m<ipython-input-32-e73fcc54f2c4>\u001b[0m in \u001b[0;36m<module>\u001b[0;34m\u001b[0m\n\u001b[1;32m      1\u001b[0m \u001b[0mholidays_all\u001b[0m\u001b[0;34m.\u001b[0m\u001b[0mname\u001b[0m \u001b[0;34m=\u001b[0m \u001b[0;34m'name'\u001b[0m  \u001b[0;31m# required for join\u001b[0m\u001b[0;34m\u001b[0m\u001b[0;34m\u001b[0m\u001b[0m\n\u001b[0;32m----> 2\u001b[0;31m \u001b[0mjoined\u001b[0m \u001b[0;34m=\u001b[0m \u001b[0mmidweek_holidays\u001b[0m\u001b[0;34m.\u001b[0m\u001b[0mjoin\u001b[0m\u001b[0;34m(\u001b[0m\u001b[0mholidays_all\u001b[0m\u001b[0;34m)\u001b[0m\u001b[0;34m\u001b[0m\u001b[0;34m\u001b[0m\u001b[0m\n\u001b[0m\u001b[1;32m      3\u001b[0m \u001b[0mset\u001b[0m\u001b[0;34m(\u001b[0m\u001b[0mjoined\u001b[0m\u001b[0;34m[\u001b[0m\u001b[0;34m'name'\u001b[0m\u001b[0;34m]\u001b[0m\u001b[0;34m)\u001b[0m\u001b[0;34m\u001b[0m\u001b[0;34m\u001b[0m\u001b[0m\n",
      "\u001b[0;31mNameError\u001b[0m: name 'midweek_holidays' is not defined"
     ]
    }
   ],
   "source": [
    "holidays_all.name = 'name'  # required for join\n",
    "joined = midweek_holidays.join(holidays_all)\n",
    "set(joined['name'])"
   ]
  },
  {
   "cell_type": "markdown",
   "metadata": {},
   "source": [
    "### Que ce passe-t-il les Vendredis? "
   ]
  },
  {
   "cell_type": "markdown",
   "metadata": {},
   "source": [
    "On peut voir ce phénomène plus facilement en surlignant les points correspodants aux vendredis sur le graphique."
   ]
  },
  {
   "cell_type": "code",
   "execution_count": 26,
   "metadata": {},
   "outputs": [
    {
     "data": {
      "image/png": "[encoded data removed]",
      "text/plain": [
       "<Figure size 432x288 with 1 Axes>"
      ]
     },
     "metadata": {},
     "output_type": "display_data"
    }
   ],
   "source": [
    "fridays = (dayofweek == 4)\n",
    "plt.scatter(Xpca[:, 0], Xpca[:, 1], c='gray', alpha=0.2)\n",
    "plt.scatter(Xpca[fridays, 0], Xpca[fridays, 1], c='yellow');"
   ]
  },
  {
   "cell_type": "markdown",
   "metadata": {},
   "source": [
    "Les points jaune sont éparpillés un peu partout sur le graphique. Nous portons une attention particulière aux trois vendredis situés aprés 600 sur l'axe des abscisses."
   ]
  },
  {
   "cell_type": "code",
   "execution_count": 29,
   "metadata": {},
   "outputs": [
    {
     "data": {
      "text/plain": [
       "Index([2014-05-16, 2017-05-19, 2018-05-18], dtype='object')"
      ]
     },
     "execution_count": 29,
     "metadata": {},
     "output_type": "execute_result"
    }
   ],
   "source": [
    "weird_fridays = pivoted.index[fridays & (Xpca[:, 0] > 600)]\n",
    "weird_fridays"
   ]
  },
  {
   "cell_type": "code",
   "execution_count": null,
   "metadata": {},
   "outputs": [],
   "source": []
  },
  {
   "cell_type": "code",
   "execution_count": 30,
   "metadata": {},
   "outputs": [
    {
     "data": {
      "image/png": "[encoded data removed]",
      "text/plain": [
       "<Figure size 432x288 with 1 Axes>"
      ]
     },
     "metadata": {},
     "output_type": "display_data"
    }
   ],
   "source": [
    "all_days = data.pivot_table('Total', index=data.index.time, columns=data.index.date)\n",
    "all_days.loc[:, weird_fridays].plot();\n",
    "all_days.mean(1).plot(color='gray', lw=5, alpha=0.3,\n",
    "                      xticks=hourly_ticks);"
   ]
  },
  {
   "cell_type": "markdown",
   "metadata": {},
   "source": [
    "## Conclusion :"
   ]
  },
  {
   "cell_type": "markdown",
   "metadata": {},
   "source": [
    "Après avoir analysé et décrit statistiquement les données sur le nombre de vélos qui passent sur le pont Fermond ainsi que utiliser des méthodes de classification non supervisée, nous avons dégager certaines informations sur celles-ci. \n",
    "En effet, nous avons appris sur les habitudes de travail des habitants de Seattle qui passent en vélo sur le pont Fermond pour aller au travail.\n",
    "En résumé, nous avons appris que : \n",
    "\n",
    "* Les cyclistes de Seattle ont tendance a poser un jour de congé pour les fêtes nationales telles que : le nouvel an, Thanksgiving, le jour de Noël, le jour de la fête d'indépendance et le Memorial Day.\n",
    "* Les cyclistes de Seattle ont tendance a aller travailler les jours de fête nationale moins communes telles que : le jour de Columbus, le jour de Martin Luther King Jr., le jour des présidents, le jour des vétérans.\n",
    "* Les cyclistes de Seattle font leur maximum pour ne pas être retenu au travail pendant le week-end."
   ]
  },
  {
   "cell_type": "code",
   "execution_count": null,
   "metadata": {},
   "outputs": [],
   "source": []
  }
 ],
 "metadata": {
  "kernelspec": {
   "display_name": "Python 3",
   "language": "python",
   "name": "python3"
  },
  "language_info": {
   "codemirror_mode": {
    "name": "ipython",
    "version": 3
   },
   "file_extension": ".py",
   "mimetype": "text/x-python",
   "name": "python",
   "nbconvert_exporter": "python",
   "pygments_lexer": "ipython3",
   "version": "3.8.3"
  }
 },
 "nbformat": 4,
 "nbformat_minor": 4
}
